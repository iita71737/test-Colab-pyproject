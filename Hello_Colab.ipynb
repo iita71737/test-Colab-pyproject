{
  "nbformat": 4,
  "nbformat_minor": 0,
  "metadata": {
    "colab": {
      "provenance": [],
      "authorship_tag": "ABX9TyPtUR2kB5VagUl7zyaIQ8FY",
      "include_colab_link": true
    },
    "kernelspec": {
      "name": "python3",
      "display_name": "Python 3"
    },
    "language_info": {
      "name": "python"
    }
  },
  "cells": [
    {
      "cell_type": "markdown",
      "metadata": {
        "id": "view-in-github",
        "colab_type": "text"
      },
      "source": [
        "<a href=\"https://colab.research.google.com/github/iita71737/test-Colab-pyproject/blob/main/Hello_Colab.ipynb\" target=\"_parent\"><img src=\"https://colab.research.google.com/assets/colab-badge.svg\" alt=\"Open In Colab\"/></a>"
      ]
    },
    {
      "cell_type": "code",
      "source": [
        "import requests\n",
        "import json\n",
        "import sqlite3\n",
        "import datetime\n",
        "\n",
        "conn = sqlite3.connect('example.db')\n",
        "c = conn.cursor()\n",
        "\n",
        "# 新增且清空資料表\n",
        "c.execute('''CREATE TABLE IF NOT EXISTS pharmacies\n",
        "             (city text, counts text, createdAt datetime)''')\n",
        "c.execute('''DELETE FROM pharmacies''')\n",
        "conn.commit()\n",
        "\n",
        "\n",
        "# 新增且清空資料表\n",
        "c.execute('''CREATE TABLE IF NOT EXISTS masks\n",
        "             (city text, counts integer, createdAt datetime)''')\n",
        "c.execute('''DELETE FROM masks''')\n",
        "conn.commit()\n",
        "\n",
        "# 发送请求获取数据\n",
        "url = 'https://raw.githubusercontent.com/kiang/pharmacies/master/json/points.json'\n",
        "response = requests.get(url)\n",
        "\n",
        "# 检查请求是否成功\n",
        "if response.status_code == 200:\n",
        "    # 将响应内容解析为 JSON 格式\n",
        "    data = json.loads(response.text)\n",
        "\n",
        "    # 初始化成人剩余口罩数量字典\n",
        "    mask_count = {}\n",
        "\n",
        "    # 遍历数据计算每个地区的成人剩余口罩数量\n",
        "    for pharmacy in data['features']:\n",
        "        properties = pharmacy['properties']\n",
        "        county = properties['county']\n",
        "        adult_mask_count = int(properties['mask_adult'])\n",
        "\n",
        "        # 如果该地区还没有记录，初始化为0\n",
        "        if county not in mask_count:\n",
        "            mask_count[county] = 0\n",
        "\n",
        "        # 累加该地区的成人剩余口罩数量\n",
        "        mask_count[county] += adult_mask_count\n",
        "\n",
        "    # 将结果从大到小排序，并转换为字典形式\n",
        "    mask_count_sorted = dict(sorted(mask_count.items(), key=lambda item: item[1], reverse=True))\n",
        "\n",
        "    # 打印计算结果\n",
        "    print(mask_count_sorted)\n",
        "\n",
        "    # 新增药局数量数据到数据库\n",
        "    for county, counts in mask_count_sorted.items():\n",
        "        t = datetime.datetime.now()\n",
        "        print(f\"INSERT INTO pharmacies VALUES ('{county}', {counts}, '{t}')\")\n",
        "        c.execute(f\"INSERT INTO pharmacies VALUES ('{county}', {counts}, '{t}')\")\n",
        "        conn.commit()\n",
        "\n",
        "    # 新增剩余口罩数量数据到数据库\n",
        "    for county, counts in mask_count.items():\n",
        "        t = datetime.datetime.now()\n",
        "        print(f\"INSERT INTO masks VALUES ('{county}', {counts}, '{t}')\")\n",
        "        c.execute(f\"INSERT INTO masks VALUES ('{county}', {counts}, '{t}')\")\n",
        "        conn.commit()\n",
        "\n",
        "    # 查询并打印 pharmacies 数据\n",
        "    c.execute(\"SELECT * FROM pharmacies\")\n",
        "    print(\"Pharmacies Data:\")\n",
        "    print(c.fetchall())\n",
        "\n",
        "    # 查询并打印 masks 数据\n",
        "    c.execute(\"SELECT * FROM masks\")\n",
        "    print(\"Masks Data:\")\n",
        "    print(c.fetchall())\n",
        "\n",
        "    # 可以选择将结果保存或进行其他操作\n",
        "else:\n",
        "    print(f\"Failed to retrieve data from {url}. Status code: {response.status_code}\")\n"
      ],
      "metadata": {
        "colab": {
          "base_uri": "https://localhost:8080/"
        },
        "id": "7DDlI3w_hUB-",
        "outputId": "044739ab-6302-4805-f689-6a5036c9adc8"
      },
      "execution_count": 6,
      "outputs": [
        {
          "output_type": "stream",
          "name": "stdout",
          "text": [
            "{'新北市': 670270, '臺中市': 536710, '高雄市': 424170, '臺南市': 393900, '桃園市': 331940, '臺北市': 322490, '彰化縣': 219400, '雲林縣': 196990, '屏東縣': 184250, '苗栗縣': 131080, '嘉義縣': 113180, '嘉義市': 107840, '宜蘭縣': 106900, '南投縣': 91240, '基隆市': 80100, '': 69210, '花蓮縣': 57330, '新竹縣': 51350, '新竹市': 45630, '臺東縣': 28510, '金門縣': 15510, '澎湖縣': 12600, '連江縣': 7930}\n",
            "INSERT INTO pharmacies VALUES ('新北市', 670270, '2024-08-11 08:48:07.196400')\n",
            "INSERT INTO pharmacies VALUES ('臺中市', 536710, '2024-08-11 08:48:07.205280')\n",
            "INSERT INTO pharmacies VALUES ('高雄市', 424170, '2024-08-11 08:48:07.212854')\n",
            "INSERT INTO pharmacies VALUES ('臺南市', 393900, '2024-08-11 08:48:07.220463')\n",
            "INSERT INTO pharmacies VALUES ('桃園市', 331940, '2024-08-11 08:48:07.228173')\n",
            "INSERT INTO pharmacies VALUES ('臺北市', 322490, '2024-08-11 08:48:07.235344')\n",
            "INSERT INTO pharmacies VALUES ('彰化縣', 219400, '2024-08-11 08:48:07.242458')\n",
            "INSERT INTO pharmacies VALUES ('雲林縣', 196990, '2024-08-11 08:48:07.250028')\n",
            "INSERT INTO pharmacies VALUES ('屏東縣', 184250, '2024-08-11 08:48:07.257352')\n",
            "INSERT INTO pharmacies VALUES ('苗栗縣', 131080, '2024-08-11 08:48:07.266209')\n",
            "INSERT INTO pharmacies VALUES ('嘉義縣', 113180, '2024-08-11 08:48:07.275158')\n",
            "INSERT INTO pharmacies VALUES ('嘉義市', 107840, '2024-08-11 08:48:07.283063')\n",
            "INSERT INTO pharmacies VALUES ('宜蘭縣', 106900, '2024-08-11 08:48:07.290992')\n",
            "INSERT INTO pharmacies VALUES ('南投縣', 91240, '2024-08-11 08:48:07.298493')\n",
            "INSERT INTO pharmacies VALUES ('基隆市', 80100, '2024-08-11 08:48:07.306129')\n",
            "INSERT INTO pharmacies VALUES ('', 69210, '2024-08-11 08:48:07.314461')\n",
            "INSERT INTO pharmacies VALUES ('花蓮縣', 57330, '2024-08-11 08:48:07.323699')\n",
            "INSERT INTO pharmacies VALUES ('新竹縣', 51350, '2024-08-11 08:48:07.331534')\n",
            "INSERT INTO pharmacies VALUES ('新竹市', 45630, '2024-08-11 08:48:07.339970')\n",
            "INSERT INTO pharmacies VALUES ('臺東縣', 28510, '2024-08-11 08:48:07.347681')\n",
            "INSERT INTO pharmacies VALUES ('金門縣', 15510, '2024-08-11 08:48:07.355816')\n",
            "INSERT INTO pharmacies VALUES ('澎湖縣', 12600, '2024-08-11 08:48:07.364348')\n",
            "INSERT INTO pharmacies VALUES ('連江縣', 7930, '2024-08-11 08:48:07.372636')\n",
            "INSERT INTO masks VALUES ('臺北市', 322490, '2024-08-11 08:48:07.380167')\n",
            "INSERT INTO masks VALUES ('', 69210, '2024-08-11 08:48:07.387793')\n",
            "INSERT INTO masks VALUES ('高雄市', 424170, '2024-08-11 08:48:07.396015')\n",
            "INSERT INTO masks VALUES ('臺中市', 536710, '2024-08-11 08:48:07.403959')\n",
            "INSERT INTO masks VALUES ('臺南市', 393900, '2024-08-11 08:48:07.412539')\n",
            "INSERT INTO masks VALUES ('基隆市', 80100, '2024-08-11 08:48:07.420671')\n",
            "INSERT INTO masks VALUES ('新竹市', 45630, '2024-08-11 08:48:07.428308')\n",
            "INSERT INTO masks VALUES ('嘉義市', 107840, '2024-08-11 08:48:07.436184')\n",
            "INSERT INTO masks VALUES ('新北市', 670270, '2024-08-11 08:48:07.443708')\n",
            "INSERT INTO masks VALUES ('桃園市', 331940, '2024-08-11 08:48:07.450827')\n",
            "INSERT INTO masks VALUES ('新竹縣', 51350, '2024-08-11 08:48:07.458294')\n",
            "INSERT INTO masks VALUES ('宜蘭縣', 106900, '2024-08-11 08:48:07.465839')\n",
            "INSERT INTO masks VALUES ('苗栗縣', 131080, '2024-08-11 08:48:07.474206')\n",
            "INSERT INTO masks VALUES ('彰化縣', 219400, '2024-08-11 08:48:07.481631')\n",
            "INSERT INTO masks VALUES ('南投縣', 91240, '2024-08-11 08:48:07.489200')\n",
            "INSERT INTO masks VALUES ('雲林縣', 196990, '2024-08-11 08:48:07.497095')\n",
            "INSERT INTO masks VALUES ('嘉義縣', 113180, '2024-08-11 08:48:07.504873')\n",
            "INSERT INTO masks VALUES ('屏東縣', 184250, '2024-08-11 08:48:07.513413')\n",
            "INSERT INTO masks VALUES ('澎湖縣', 12600, '2024-08-11 08:48:07.521502')\n",
            "INSERT INTO masks VALUES ('花蓮縣', 57330, '2024-08-11 08:48:07.529157')\n",
            "INSERT INTO masks VALUES ('臺東縣', 28510, '2024-08-11 08:48:07.536859')\n",
            "INSERT INTO masks VALUES ('金門縣', 15510, '2024-08-11 08:48:07.545235')\n",
            "INSERT INTO masks VALUES ('連江縣', 7930, '2024-08-11 08:48:07.553125')\n",
            "Pharmacies Data:\n",
            "[('新北市', '670270', '2024-08-11 08:48:07.196400'), ('臺中市', '536710', '2024-08-11 08:48:07.205280'), ('高雄市', '424170', '2024-08-11 08:48:07.212854'), ('臺南市', '393900', '2024-08-11 08:48:07.220463'), ('桃園市', '331940', '2024-08-11 08:48:07.228173'), ('臺北市', '322490', '2024-08-11 08:48:07.235344'), ('彰化縣', '219400', '2024-08-11 08:48:07.242458'), ('雲林縣', '196990', '2024-08-11 08:48:07.250028'), ('屏東縣', '184250', '2024-08-11 08:48:07.257352'), ('苗栗縣', '131080', '2024-08-11 08:48:07.266209'), ('嘉義縣', '113180', '2024-08-11 08:48:07.275158'), ('嘉義市', '107840', '2024-08-11 08:48:07.283063'), ('宜蘭縣', '106900', '2024-08-11 08:48:07.290992'), ('南投縣', '91240', '2024-08-11 08:48:07.298493'), ('基隆市', '80100', '2024-08-11 08:48:07.306129'), ('', '69210', '2024-08-11 08:48:07.314461'), ('花蓮縣', '57330', '2024-08-11 08:48:07.323699'), ('新竹縣', '51350', '2024-08-11 08:48:07.331534'), ('新竹市', '45630', '2024-08-11 08:48:07.339970'), ('臺東縣', '28510', '2024-08-11 08:48:07.347681'), ('金門縣', '15510', '2024-08-11 08:48:07.355816'), ('澎湖縣', '12600', '2024-08-11 08:48:07.364348'), ('連江縣', '7930', '2024-08-11 08:48:07.372636')]\n",
            "Masks Data:\n",
            "[('臺北市', 322490, '2024-08-11 08:48:07.380167'), ('', 69210, '2024-08-11 08:48:07.387793'), ('高雄市', 424170, '2024-08-11 08:48:07.396015'), ('臺中市', 536710, '2024-08-11 08:48:07.403959'), ('臺南市', 393900, '2024-08-11 08:48:07.412539'), ('基隆市', 80100, '2024-08-11 08:48:07.420671'), ('新竹市', 45630, '2024-08-11 08:48:07.428308'), ('嘉義市', 107840, '2024-08-11 08:48:07.436184'), ('新北市', 670270, '2024-08-11 08:48:07.443708'), ('桃園市', 331940, '2024-08-11 08:48:07.450827'), ('新竹縣', 51350, '2024-08-11 08:48:07.458294'), ('宜蘭縣', 106900, '2024-08-11 08:48:07.465839'), ('苗栗縣', 131080, '2024-08-11 08:48:07.474206'), ('彰化縣', 219400, '2024-08-11 08:48:07.481631'), ('南投縣', 91240, '2024-08-11 08:48:07.489200'), ('雲林縣', 196990, '2024-08-11 08:48:07.497095'), ('嘉義縣', 113180, '2024-08-11 08:48:07.504873'), ('屏東縣', 184250, '2024-08-11 08:48:07.513413'), ('澎湖縣', 12600, '2024-08-11 08:48:07.521502'), ('花蓮縣', 57330, '2024-08-11 08:48:07.529157'), ('臺東縣', 28510, '2024-08-11 08:48:07.536859'), ('金門縣', 15510, '2024-08-11 08:48:07.545235'), ('連江縣', 7930, '2024-08-11 08:48:07.553125')]\n"
          ]
        }
      ]
    },
    {
      "cell_type": "code",
      "source": [
        "from google.colab import auth\n",
        "PROJECT_ID = \"d12d12d\" # @param {type: \"string\"}\n",
        "auth.authenticate_user(project_id=PROJECT_ID)"
      ],
      "metadata": {
        "id": "juEItjUio8P6"
      },
      "execution_count": 9,
      "outputs": []
    },
    {
      "cell_type": "code",
      "source": [],
      "metadata": {
        "id": "cGIsxUUjhxEE"
      },
      "execution_count": 3,
      "outputs": []
    }
  ]
}