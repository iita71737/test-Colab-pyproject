{
  "nbformat": 4,
  "nbformat_minor": 0,
  "metadata": {
    "colab": {
      "provenance": [],
      "toc_visible": true,
      "authorship_tag": "ABX9TyOpZ71L6O37OAqQQjGhSm89",
      "include_colab_link": true
    },
    "kernelspec": {
      "name": "python3",
      "display_name": "Python 3"
    },
    "language_info": {
      "name": "python"
    }
  },
  "cells": [
    {
      "cell_type": "markdown",
      "metadata": {
        "id": "view-in-github",
        "colab_type": "text"
      },
      "source": [
        "<a href=\"https://colab.research.google.com/github/iita71737/test-Colab-pyproject/blob/main/Hello_Colab.ipynb\" target=\"_parent\"><img src=\"https://colab.research.google.com/assets/colab-badge.svg\" alt=\"Open In Colab\"/></a>"
      ]
    },
    {
      "cell_type": "code",
      "source": [
        "import requests\n",
        "import json\n",
        "\n",
        "# 发送请求获取数据\n",
        "url = 'https://raw.githubusercontent.com/kiang/pharmacies/master/json/points.json'\n",
        "response = requests.get(url)\n",
        "\n",
        "# 检查请求是否成功\n",
        "if response.status_code == 200:\n",
        "    # 将响应内容解析为 JSON 格式\n",
        "    data = json.loads(response.text)\n",
        "\n",
        "    # 初始化成人剩余口罩数量字典\n",
        "    mask_count = {}\n",
        "\n",
        "    # 遍历数据计算每个地区的成人剩余口罩数量\n",
        "    for pharmacy in data['features']:\n",
        "        properties = pharmacy['properties']\n",
        "        county = properties['county']\n",
        "        adult_mask_count = int(properties['mask_adult'])\n",
        "\n",
        "        # 如果该地区还没有记录，初始化为0\n",
        "        if county not in mask_count:\n",
        "            mask_count[county] = 0\n",
        "\n",
        "        # 累加该地区的成人剩余口罩数量\n",
        "        mask_count[county] += adult_mask_count\n",
        "\n",
        "    # 将结果从大到小排序，并转换为字典形式\n",
        "    mask_count_sorted = dict(sorted(mask_count.items(), key=lambda item: item[1], reverse=True))\n",
        "\n",
        "    # 打印计算结果\n",
        "    print(mask_count_sorted)\n",
        "\n",
        "    # 可以选择将结果保存或进行其他操作\n",
        "else:\n",
        "    print(f\"Failed to retrieve data from {url}. Status code: {response.status_code}\")\n"
      ],
      "metadata": {
        "colab": {
          "base_uri": "https://localhost:8080/"
        },
        "id": "7DDlI3w_hUB-",
        "outputId": "5c49d5d4-3280-4a69-e7c5-604e3ff5b8e1"
      },
      "execution_count": null,
      "outputs": [
        {
          "output_type": "stream",
          "name": "stdout",
          "text": [
            "{'新北市': 670270, '臺中市': 536710, '高雄市': 424170, '臺南市': 393900, '桃園市': 331940, '臺北市': 322490, '彰化縣': 219400, '雲林縣': 196990, '屏東縣': 184250, '苗栗縣': 131080, '嘉義縣': 113180, '嘉義市': 107840, '宜蘭縣': 106900, '南投縣': 91240, '基隆市': 80100, '': 69210, '花蓮縣': 57330, '新竹縣': 51350, '新竹市': 45630, '臺東縣': 28510, '金門縣': 15510, '澎湖縣': 12600, '連江縣': 7930}\n"
          ]
        }
      ]
    }
  ]
}